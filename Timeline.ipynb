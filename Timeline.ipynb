{
 "cells": [
  {
   "cell_type": "code",
   "execution_count": null,
   "metadata": {},
   "outputs": [],
   "source": [
    "import tweepy           \n",
    "import pandas as pd     \n",
    "import numpy as np      \n",
    "import sys\n",
    "import datetime\n",
    "import csv\n",
    "\n",
    "# For draft and visualization\n",
    "from IPython.display import display\n",
    "import matplotlib.pyplot as plt\n",
    "import seaborn as sns\n",
    "%matplotlib inline"
   ]
  },
  {
   "cell_type": "code",
   "execution_count": null,
   "metadata": {},
   "outputs": [],
   "source": [
    "consumer_key = 'SY1TACPOFQ1CBVmO4OQhw9lpX'\n",
    "consumer_secret = 'fx4fFoA71CGdtwYUmjr5mnXUAIkHbmOvmw91h5WSi20zMirnYp'\n",
    "access_token = '1108216575935430656-mbqcloTcgc3WFDMvEvwL1WfT34GhQR'\n",
    "access_token_secret = 'sz4rlbfZiLZo1612LzAss7VwdGUIP7zsFS7B5EcuAbzNt'\n",
    "def twitter_setup():\n",
    "    auth = tweepy.OAuthHandler(consumer_key, consumer_secret)\n",
    "    auth.set_access_token(access_token, access_token_secret)\n",
    "    api = tweepy.API(auth)\n",
    "    return api"
   ]
  },
  {
   "cell_type": "markdown",
   "metadata": {},
   "source": [
    "## Test"
   ]
  },
  {
   "cell_type": "code",
   "execution_count": null,
   "metadata": {},
   "outputs": [],
   "source": [
    "# create a extractor object\n",
    "extractor = twitter_setup()\n",
    "\n",
    "# create a tweet list\n",
    "tweets = extractor.user_timeline(screen_name=\"realDonaldTrump\", count=200)\n",
    "print(\"Number of tweets extracted: {}.\\n\".format(len(tweets)))\n",
    "\n",
    "# Print last 5 tweets\n",
    "print(\"5 recent tweets:\\n\")\n",
    "for tweet in tweets[:5]:\n",
    "    print(tweet.text)\n",
    "print()\n",
    "# Create a Pandas dataframe\n",
    "data = pd.DataFrame(data=[tweet.text for tweet in tweets], columns=['Tweets'])\n",
    "display(data.head(10))\n",
    "\n",
    "print(tweets[0].id)\n",
    "print(tweets[0].created_at)\n",
    "print(tweets[0].source)\n",
    "print(tweets[0].favorite_count)\n",
    "print(tweets[0].retweet_count)\n",
    "print(tweets[0].geo)\n",
    "print(tweets[0].coordinates)\n",
    "print(tweets[0].entities)\n",
    "print(tweets[0].__hash__)"
   ]
  },
  {
   "cell_type": "markdown",
   "metadata": {},
   "source": [
    "## Internal methods"
   ]
  },
  {
   "cell_type": "code",
   "execution_count": null,
   "metadata": {},
   "outputs": [],
   "source": [
    "# internal methods in a single tweet object\n",
    "print(dir(tweets[0]))"
   ]
  },
  {
   "cell_type": "code",
   "execution_count": null,
   "metadata": {},
   "outputs": [],
   "source": [
    "print(tweets[0].id)\n",
    "print(tweets[0].created_at)\n",
    "print(tweets[0].source)\n",
    "print(tweets[0].favorite_count)\n",
    "print(tweets[0].retweet_count)\n",
    "print(tweets[0].geo)\n",
    "print(tweets[0].coordinates)\n",
    "print(tweets[0].entities)\n",
    "print(tweets[0].__hash__)"
   ]
  },
  {
   "cell_type": "markdown",
   "metadata": {},
   "source": [
    "## Set time period"
   ]
  },
  {
   "cell_type": "code",
   "execution_count": null,
   "metadata": {},
   "outputs": [],
   "source": [
    "auth = tweepy.OAuthHandler(consumer_key, consumer_secret)\n",
    "auth.set_access_token(access_token, access_token_secret)\n",
    "api = tweepy.API(auth)\n",
    "username = sys.argv[1]\n",
    "\n",
    "# Set a timeline\n",
    "startDate = datetime.datetime(2019, 3, 1, 0, 0, 0)\n",
    "endDate =   datetime.datetime(2019, 3, 2, 0, 0, 0)\n",
    "\n",
    "tweets = []\n",
    "toptweets = []\n",
    "\n",
    "users = []\n",
    "with open('VicGov.csv') as csvfile:\n",
    "    readCSV = csv.reader(csvfile, delimiter = ',')\n",
    "    for row in readCSV:\n",
    "        users.append(row[0])"
   ]
  },
  {
   "cell_type": "markdown",
   "metadata": {},
   "source": [
    "## Timeline"
   ]
  },
  {
   "cell_type": "code",
   "execution_count": null,
   "metadata": {},
   "outputs": [],
   "source": [
    "favs = []\n",
    "rts = []\n",
    "for i in range(1, len(users)):\n",
    "    # Extract all the tweets of a account between two certain times\n",
    "    tmpTweets = api.user_timeline(users[i])\n",
    "    tweets = []\n",
    "    for tweet in tmpTweets:\n",
    "        if tweet.created_at < endDate and tweet.created_at > startDate:\n",
    "            tweets.append(tweet)\n",
    "\n",
    "    while (tmpTweets[-1].created_at > startDate):\n",
    "        tmpTweets = api.user_timeline(users[i], max_id = tmpTweets[-1].id)\n",
    "        for tweet in tmpTweets:\n",
    "            if tweet.created_at < endDate and tweet.created_at > startDate:\n",
    "                tweets.append(tweet)\n",
    "    Likes = []\n",
    "    RTs = []\n",
    "\n",
    "    if(tweets):\n",
    "        for tweet in tweets:\n",
    "            Likes.append(tweet.favorite_count)\n",
    "            RTs.append(tweet.retweet_count)\n",
    "\n",
    "\n",
    "    if(Likes):\n",
    "        favs.append(max(Likes))\n",
    "        i = Likes.index(max(Likes))\n",
    "        toptweets.append(tweets[i])\n",
    "    else:\n",
    "        favs.append('0')\n",
    "\n",
    "    if(RTs):\n",
    "        rts.append(max(RTs))\n",
    "    else:\n",
    "        rts.append('0')\n",
    "\n",
    "print(users[1:], len(users[1:]))\n",
    "print(favs, len(favs))\n",
    "print(rts, len(rts))\n",
    "\n",
    "data = pd.DataFrame(data=users[1:], columns=['User'])\n",
    "data['fav']  = np.array(favs)\n",
    "data['rt']  = np.array(rts)\n",
    "display(data)"
   ]
  },
  {
   "cell_type": "code",
   "execution_count": null,
   "metadata": {},
   "outputs": [],
   "source": [
    "data = pd.DataFrame(data=[toptweet.text for toptweet in toptweets], columns=['Tweets'])\n",
    "data['len']  = np.array([len(toptweet.text) for toptweet in toptweets])\n",
    "data['ID']   = np.array([toptweet.id for toptweet in toptweets])\n",
    "data['Date'] = np.array([toptweet.created_at for toptweet in toptweets])\n",
    "data['Source'] = np.array([toptweet.source for toptweet in toptweets])\n",
    "data['Likes']  = np.array([toptweet.favorite_count for toptweet in toptweets])\n",
    "data['RTs']    = np.array([toptweet.retweet_count for toptweet in toptweets])"
   ]
  },
  {
   "cell_type": "code",
   "execution_count": null,
   "metadata": {},
   "outputs": [],
   "source": [
    "tfav = pd.Series(data=data['Likes'].values, index=data['Date'])\n",
    "tret = pd.Series(data=data['RTs'].values, index=data['Date'])\n",
    "tfav.plot(figsize=(40,4), label=\"Likes\", legend=True)\n",
    "tret.plot(figsize=(40,4), label=\"Retweets\", legend=True);"
   ]
  }
 ],
 "metadata": {
  "kernelspec": {
   "display_name": "Python 3",
   "language": "python",
   "name": "python3"
  },
  "language_info": {
   "codemirror_mode": {
    "name": "ipython",
    "version": 3
   },
   "file_extension": ".py",
   "mimetype": "text/x-python",
   "name": "python",
   "nbconvert_exporter": "python",
   "pygments_lexer": "ipython3",
   "version": "3.7.0"
  }
 },
 "nbformat": 4,
 "nbformat_minor": 2
}
