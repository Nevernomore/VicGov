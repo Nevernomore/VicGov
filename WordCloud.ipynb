{
 "cells": [
  {
   "cell_type": "markdown",
   "metadata": {},
   "source": [
    "## IMPORT TWEEPY"
   ]
  },
  {
   "cell_type": "code",
   "execution_count": null,
   "metadata": {},
   "outputs": [],
   "source": [
    "import tweepy\n",
    "import csv\n",
    "import re\n",
    "from wordcloud import WordCloud\n",
    "\n",
    "#Twitter API credentials\n",
    "consumer_key = 'SY1TACPOFQ1CBVmO4OQhw9lpX'\n",
    "consumer_secret = 'fx4fFoA71CGdtwYUmjr5mnXUAIkHbmOvmw91h5WSi20zMirnYp'\n",
    "access_token = '1108216575935430656-mbqcloTcgc3WFDMvEvwL1WfT34GhQR'\n",
    "access_token_secret = 'sz4rlbfZiLZo1612LzAss7VwdGUIP7zsFS7B5EcuAbzNt'\n",
    "\n",
    "def get_all_tweets(screen_name):\n",
    "    #Twitter only allows access to a users most recent 3240 tweets with this method\n",
    "\n",
    "    #authorize twitter, initialize tweepy\n",
    "    auth = tweepy.OAuthHandler(consumer_key, consumer_secret)\n",
    "    auth.set_access_token(access_token, access_token_secret)\n",
    "    api = tweepy.API(auth)\n",
    "\n",
    "    #initialize a list to hold all the tweepy Tweets\n",
    "    alltweets = []\n",
    "\n",
    "    #make initial request for most recent tweets (200 is the maximum allowed count)\n",
    "    new_tweets = api.user_timeline(screen_name = screen_name,count=200)\n",
    "\n",
    "    #save most recent tweets\n",
    "    alltweets.extend(new_tweets)\n",
    "\n",
    "    #save the id of the oldest tweet less one\n",
    "    oldest = alltweets[-1].id - 1\n",
    "\n",
    "    #keep grabbing tweets until there are no tweets left to grab\n",
    "    while len(new_tweets) > 0:\n",
    "#         print (\"getting tweets before %s\" % (oldest))\n",
    "\n",
    "        #all subsiquent requests use the max_id param to prevent duplicates\n",
    "        new_tweets = api.user_timeline(screen_name = screen_name,count=200,max_id=oldest)\n",
    "\n",
    "        #save most recent tweets\n",
    "        alltweets.extend(new_tweets)\n",
    "\n",
    "        #update the id of the oldest tweet less one\n",
    "        oldest = alltweets[-1].id - 1\n",
    "\n",
    "#         print (\"...%s tweets downloaded so far\" % (len(alltweets)))\n",
    "\n",
    "    #transform the tweepy tweets into a 2D array that will populate the csv\t\n",
    "    outtweets = [[#tweet.id_str, tweet.created_at, \n",
    "        tweet.text.encode(\"utf-8\")] for tweet in alltweets]\n",
    "\n",
    "    #write the csv\n",
    "    with open('%s_tweets.csv'% screen_name, 'w') as f:\n",
    "        writer = csv.writer(f)\n",
    "#         writer.writerow([\"id\",\"created_at\",\"text\"])\n",
    "        writer.writerows(outtweets)\n",
    "    tags = []\n",
    "    with open('%s_tweets.csv'% screen_name) as csvfile:\n",
    "        tweetsCSV = csv.reader(csvfile, delimiter = ',')\n",
    "        for row in tweetsCSV:\n",
    "            if(row):\n",
    "                text = row[0]\n",
    "                tag = re.findall(r'\\B#(\\w*[a-zA-Z]+\\w*)', text)\n",
    "                if(tag):\n",
    "                    tags.append(tag)\n",
    "    text = \"\"\n",
    "    for i in range(0, len(tags)):\n",
    "        text = text + '\\n' + ' '.join(tags[i])\n",
    "\n",
    "    # print(text)\n",
    "\n",
    "    if(text):\n",
    "        wordcloud = WordCloud().generate(text)\n",
    "\n",
    "        %pylab inline\n",
    "        import matplotlib.pyplot as plt\n",
    "        plt.imshow(wordcloud, interpolation='bilinear')\n",
    "        plt.axis(\"off\")\n",
    "\n",
    "#     pass\n"
   ]
  },
  {
   "cell_type": "markdown",
   "metadata": {},
   "source": [
    "## Get hashtags"
   ]
  },
  {
   "cell_type": "code",
   "execution_count": null,
   "metadata": {},
   "outputs": [],
   "source": [
    "#use the account name to get the word cloud\n",
    "get_all_tweets(\"@MaribyrnongCC\")   "
   ]
  }
 ],
 "metadata": {
  "kernelspec": {
   "display_name": "Python 3",
   "language": "python",
   "name": "python3"
  },
  "language_info": {
   "codemirror_mode": {
    "name": "ipython",
    "version": 3
   },
   "file_extension": ".py",
   "mimetype": "text/x-python",
   "name": "python",
   "nbconvert_exporter": "python",
   "pygments_lexer": "ipython3",
   "version": "3.7.0"
  }
 },
 "nbformat": 4,
 "nbformat_minor": 2
}
